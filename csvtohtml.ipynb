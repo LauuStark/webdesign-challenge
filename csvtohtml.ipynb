{
 "cells": [
  {
   "cell_type": "code",
   "execution_count": 1,
   "metadata": {},
   "outputs": [],
   "source": [
    "import pandas as pd"
   ]
  },
  {
   "cell_type": "code",
   "execution_count": 2,
   "metadata": {},
   "outputs": [],
   "source": [
    "data = pd.read_csv(\"results.csv\") "
   ]
  },
  {
   "cell_type": "code",
   "execution_count": 3,
   "metadata": {},
   "outputs": [
    {
     "data": {
      "text/html": [
       "<div>\n",
       "<style scoped>\n",
       "    .dataframe tbody tr th:only-of-type {\n",
       "        vertical-align: middle;\n",
       "    }\n",
       "\n",
       "    .dataframe tbody tr th {\n",
       "        vertical-align: top;\n",
       "    }\n",
       "\n",
       "    .dataframe thead th {\n",
       "        text-align: right;\n",
       "    }\n",
       "</style>\n",
       "<table border=\"1\" class=\"dataframe\">\n",
       "  <thead>\n",
       "    <tr style=\"text-align: right;\">\n",
       "      <th></th>\n",
       "      <th>City</th>\n",
       "      <th>Lat</th>\n",
       "      <th>Lng</th>\n",
       "      <th>Max Temp</th>\n",
       "      <th>Humidity</th>\n",
       "      <th>Cloudiness</th>\n",
       "      <th>Wind Speed</th>\n",
       "      <th>Country</th>\n",
       "      <th>Date</th>\n",
       "    </tr>\n",
       "  </thead>\n",
       "  <tbody>\n",
       "    <tr>\n",
       "      <th>0</th>\n",
       "      <td>Constitución</td>\n",
       "      <td>-35.33</td>\n",
       "      <td>-72.42</td>\n",
       "      <td>285.66</td>\n",
       "      <td>92</td>\n",
       "      <td>100</td>\n",
       "      <td>3.96</td>\n",
       "      <td>CL</td>\n",
       "      <td>1596333391</td>\n",
       "    </tr>\n",
       "    <tr>\n",
       "      <th>1</th>\n",
       "      <td>Chapais</td>\n",
       "      <td>49.78</td>\n",
       "      <td>-74.85</td>\n",
       "      <td>292.15</td>\n",
       "      <td>88</td>\n",
       "      <td>1</td>\n",
       "      <td>1.50</td>\n",
       "      <td>CA</td>\n",
       "      <td>1596333391</td>\n",
       "    </tr>\n",
       "    <tr>\n",
       "      <th>2</th>\n",
       "      <td>Manta</td>\n",
       "      <td>-0.95</td>\n",
       "      <td>-80.73</td>\n",
       "      <td>296.15</td>\n",
       "      <td>83</td>\n",
       "      <td>75</td>\n",
       "      <td>5.10</td>\n",
       "      <td>EC</td>\n",
       "      <td>1596333151</td>\n",
       "    </tr>\n",
       "    <tr>\n",
       "      <th>3</th>\n",
       "      <td>Chumikan</td>\n",
       "      <td>54.72</td>\n",
       "      <td>135.31</td>\n",
       "      <td>284.05</td>\n",
       "      <td>90</td>\n",
       "      <td>100</td>\n",
       "      <td>5.72</td>\n",
       "      <td>RU</td>\n",
       "      <td>1596333391</td>\n",
       "    </tr>\n",
       "    <tr>\n",
       "      <th>4</th>\n",
       "      <td>Herat Province</td>\n",
       "      <td>34.50</td>\n",
       "      <td>62.00</td>\n",
       "      <td>291.12</td>\n",
       "      <td>36</td>\n",
       "      <td>0</td>\n",
       "      <td>3.29</td>\n",
       "      <td>AF</td>\n",
       "      <td>1596333392</td>\n",
       "    </tr>\n",
       "  </tbody>\n",
       "</table>\n",
       "</div>"
      ],
      "text/plain": [
       "             City    Lat     Lng  Max Temp  Humidity  Cloudiness  Wind Speed  \\\n",
       "0    Constitución -35.33  -72.42    285.66        92         100        3.96   \n",
       "1         Chapais  49.78  -74.85    292.15        88           1        1.50   \n",
       "2           Manta  -0.95  -80.73    296.15        83          75        5.10   \n",
       "3        Chumikan  54.72  135.31    284.05        90         100        5.72   \n",
       "4  Herat Province  34.50   62.00    291.12        36           0        3.29   \n",
       "\n",
       "  Country        Date  \n",
       "0      CL  1596333391  \n",
       "1      CA  1596333391  \n",
       "2      EC  1596333151  \n",
       "3      RU  1596333391  \n",
       "4      AF  1596333392  "
      ]
     },
     "execution_count": 3,
     "metadata": {},
     "output_type": "execute_result"
    }
   ],
   "source": [
    "data.head()"
   ]
  },
  {
   "cell_type": "code",
   "execution_count": 7,
   "metadata": {},
   "outputs": [],
   "source": [
    "data.to_html(\"data.html\")"
   ]
  }
 ],
 "metadata": {
  "kernelspec": {
   "display_name": "Python [conda env:PythonData1]",
   "language": "python",
   "name": "conda-env-PythonData1-py"
  },
  "language_info": {
   "codemirror_mode": {
    "name": "ipython",
    "version": 3
   },
   "file_extension": ".py",
   "mimetype": "text/x-python",
   "name": "python",
   "nbconvert_exporter": "python",
   "pygments_lexer": "ipython3",
   "version": "3.6.10"
  }
 },
 "nbformat": 4,
 "nbformat_minor": 4
}
